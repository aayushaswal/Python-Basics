{
 "cells": [
  {
   "cell_type": "code",
   "execution_count": 1,
   "id": "8bfe3bf4",
   "metadata": {},
   "outputs": [
    {
     "name": "stdout",
     "output_type": "stream",
     "text": [
      "Please enter 1st no : 12\n",
      "Please enter 2nd no : 11\n",
      "sum of two digit is 23.0\n"
     ]
    }
   ],
   "source": [
    "#Python Program to Add Two Numbers\n",
    "\n",
    "num1= float(input(\"Please enter 1st no : \"))\n",
    "num2= float(input(\"Please enter 2nd no : \"))\n",
    "\n",
    "add= num1 + num2\n",
    "\n",
    "print(f\"sum of two digit is {add}\")"
   ]
  },
  {
   "cell_type": "code",
   "execution_count": 3,
   "id": "140c1477",
   "metadata": {},
   "outputs": [
    {
     "name": "stdout",
     "output_type": "stream",
     "text": [
      "please enter the number10\n",
      " the squareroot of 10.0 is 3.16 \n"
     ]
    }
   ],
   "source": [
    "#Python Program to Find the Square Root\n",
    "\n",
    "num=float(input(\"please enter the number\"))\n",
    "sq_rt= round(num**0.5,2)\n",
    "\n",
    "print(f\" the squareroot of {num} is {sq_rt} \")"
   ]
  },
  {
   "cell_type": "code",
   "execution_count": 9,
   "id": "c2f272db",
   "metadata": {},
   "outputs": [
    {
     "name": "stdout",
     "output_type": "stream",
     "text": [
      "enter the  1st side 10\n",
      "enter the  2nd side 10\n",
      "enter the  3rd side 10\n",
      "the area of triangle is 43.3\n"
     ]
    }
   ],
   "source": [
    "#Python Program to find the area of triangle s = (a + b + c) / 2, area = (s*(s-a)*(s-b)*(s-c)) ** 0.5\n",
    "\n",
    "s1=float(input(\"enter the  1st side \"))\n",
    "s2=float(input(\"enter the  2nd side \"))\n",
    "s3=float(input(\"enter the  3rd side \"))\n",
    "\n",
    "p=(s1+s2+s3)/2\n",
    "\n",
    "area = round((p*(p-s1)*(p-s2)*(p-s3))**.5,2)\n",
    "\n",
    "print(f\"the area of triangle is {area}\") "
   ]
  },
  {
   "cell_type": "code",
   "execution_count": 11,
   "id": "23b73dc1",
   "metadata": {},
   "outputs": [
    {
     "name": "stdout",
     "output_type": "stream",
     "text": [
      "Please enter 1st no : 10\n",
      "Please enter 2nd no : 20\n",
      "the value are 10.0 and 20.0\n",
      "the swapped value are 20.0 and 10.0\n"
     ]
    }
   ],
   "source": [
    "#Python Program to Swap Two Variables\n",
    "\n",
    "num1= float(input(\"Please enter 1st no : \"))\n",
    "num2= float(input(\"Please enter 2nd no : \"))\n",
    "\n",
    "print(f\"the value are {num1} and {num2}\")\n",
    "\n",
    "temp= num1\n",
    "num1= num2\n",
    "num2 = temp\n",
    "\n",
    "print(f\"the swapped value are {num1} and {num2}\")"
   ]
  },
  {
   "cell_type": "code",
   "execution_count": 26,
   "id": "2045acfa",
   "metadata": {},
   "outputs": [
    {
     "name": "stdout",
     "output_type": "stream",
     "text": [
      "Enter the number 6\n",
      " 2 not a prime no\n",
      " 3 not a prime no\n",
      " 4 not a prime no\n",
      "5  no is prime no\n"
     ]
    }
   ],
   "source": [
    "#Program to check range of number is prime or not\n",
    "\n",
    "num=int(input(\"Enter the number \"))\n",
    "\n",
    "for i in range(2,num):\n",
    "    if(i <= 1):\n",
    "        print(\"Please enter another no\")\n",
    "    elif(i>2 and i % 2 !=0 and i % 3 !=0):\n",
    "        print(f\"{i}  no is prime no\")\n",
    "    else:\n",
    "        print(f\" {i} not a prime no\")\n",
    "        "
   ]
  },
  {
   "cell_type": "code",
   "execution_count": 28,
   "id": "988efa56",
   "metadata": {},
   "outputs": [
    {
     "name": "stdout",
     "output_type": "stream",
     "text": [
      "Enter the number 4\n",
      " the factorial of 4 is 24 \n"
     ]
    }
   ],
   "source": [
    "#Factorial of a Number using Loop\n",
    "\n",
    "num=int(input(\"Enter the number \"))\n",
    "fact=1\n",
    "for i in range (1,num+1):\n",
    "    fact=fact*i\n",
    "print(f\" the factorial of {num} is {fact} \")"
   ]
  },
  {
   "cell_type": "code",
   "execution_count": 44,
   "id": "8396a6f0",
   "metadata": {
    "scrolled": true
   },
   "outputs": [
    {
     "name": "stdout",
     "output_type": "stream",
     "text": [
      "Enter the number 4\n",
      "The factorial of 4 is 24\n"
     ]
    }
   ],
   "source": [
    "#Factorial of a Number using recursion\n",
    "\n",
    "num=int(input(\"Enter the number \"))\n",
    "def factor(x):\n",
    "    if x == 1:\n",
    "        return 1\n",
    "    else:\n",
    "         return (x * factor(x-1))\n",
    "        \n",
    "result = factor(num)\n",
    "print(\"The factorial of\", num, \"is\", result)"
   ]
  },
  {
   "cell_type": "code",
   "execution_count": 48,
   "id": "95bdb987",
   "metadata": {},
   "outputs": [
    {
     "name": "stdout",
     "output_type": "stream",
     "text": [
      "Enter the number which table you want 9\n",
      "the table for 9 is \n",
      "9 X 1 = 9\n",
      "9 X 2 = 18\n",
      "9 X 3 = 27\n",
      "9 X 4 = 36\n",
      "9 X 5 = 45\n",
      "9 X 6 = 54\n",
      "9 X 7 = 63\n",
      "9 X 8 = 72\n",
      "9 X 9 = 81\n",
      "9 X 10 = 90\n"
     ]
    }
   ],
   "source": [
    "# Multiplication table in Python\n",
    "\n",
    "num=int(input(\"Enter the number which table you want \"))\n",
    "print(f\"the table for {num} is \")\n",
    "for i in range(1,11):\n",
    "    print(f'{num} X {i} = {num * i}'  )"
   ]
  },
  {
   "cell_type": "code",
   "execution_count": 80,
   "id": "ceac56f2",
   "metadata": {},
   "outputs": [
    {
     "name": "stdout",
     "output_type": "stream",
     "text": [
      "Please enter 1st no : 10\n",
      "Please enter 2nd no : 20\n",
      "enter the operation you want:add for addition,sub for subtraction,mul for multiply,div for divideadd\n",
      " Addition is 30\n"
     ]
    }
   ],
   "source": [
    "#Python Program to Make a Simple Calculator\n",
    "\n",
    "def add(x,y):\n",
    "    return(x + y)\n",
    "\n",
    "def sub(x,y):\n",
    "    return(x - y)\n",
    "\n",
    "def mul(x,y):\n",
    "    return(x * y)\n",
    "\n",
    "def div(x,y):\n",
    "    return(x / y)\n",
    "         \n",
    "   \n",
    "    \n",
    "num1= int(input(\"Please enter 1st no : \"))\n",
    "num2= int(input(\"Please enter 2nd no : \"))\n",
    "\n",
    "operation =input(f\"enter the operation you want:add for addition,sub for subtraction,mul for multiply,div for divide\")\n",
    "if operation == 'add':\n",
    "    print(f\" Addition is {add(num1,num2)}\")\n",
    "elif operation == 'sub':\n",
    "    print(f\" Subtraction is {sub(num1,num2)}\")\n",
    "elif operation == 'mul':\n",
    "    print(f\" Multiplication is {mul(num1,num2)}\")\n",
    "else:\n",
    "    print(f\" Division is {div(num1,num2)}\")"
   ]
  },
  {
   "cell_type": "code",
   "execution_count": 28,
   "id": "07cecf45",
   "metadata": {},
   "outputs": [
    {
     "name": "stdout",
     "output_type": "stream",
     "text": [
      "5\n"
     ]
    }
   ],
   "source": [
    "arr=[2,3,6,6,5]\n",
    "set_arr= set(arr)\n",
    "list_arr= list(set_arr)\n",
    "sort_arr= list_arr.sort(reverse = True)\n",
    "print(list_arr[1])"
   ]
  },
  {
   "cell_type": "code",
   "execution_count": 15,
   "id": "be018003",
   "metadata": {},
   "outputs": [
    {
     "name": "stdout",
     "output_type": "stream",
     "text": [
      "1 2 3 4 5 6\n"
     ]
    },
    {
     "ename": "ValueError",
     "evalue": "invalid literal for int() with base 10: '1 2 3 4 5 6'",
     "output_type": "error",
     "traceback": [
      "\u001b[1;31m---------------------------------------------------------------------------\u001b[0m",
      "\u001b[1;31mValueError\u001b[0m                                Traceback (most recent call last)",
      "\u001b[1;32m~\\AppData\\Local\\Temp\\ipykernel_11372\\2533748833.py\u001b[0m in \u001b[0;36m<module>\u001b[1;34m\u001b[0m\n\u001b[1;32m----> 1\u001b[1;33m \u001b[0mn\u001b[0m \u001b[1;33m=\u001b[0m \u001b[0mint\u001b[0m\u001b[1;33m(\u001b[0m\u001b[0minput\u001b[0m\u001b[1;33m(\u001b[0m\u001b[1;33m)\u001b[0m\u001b[1;33m)\u001b[0m\u001b[1;33m\u001b[0m\u001b[1;33m\u001b[0m\u001b[0m\n\u001b[0m\u001b[0;32m      2\u001b[0m \u001b[0marr\u001b[0m \u001b[1;33m=\u001b[0m \u001b[0mmap\u001b[0m\u001b[1;33m(\u001b[0m\u001b[0mint\u001b[0m\u001b[1;33m,\u001b[0m \u001b[0minput\u001b[0m\u001b[1;33m(\u001b[0m\u001b[1;33m)\u001b[0m\u001b[1;33m.\u001b[0m\u001b[0msplit\u001b[0m\u001b[1;33m(\u001b[0m\u001b[1;33m)\u001b[0m\u001b[1;33m)\u001b[0m\u001b[1;33m\u001b[0m\u001b[1;33m\u001b[0m\u001b[0m\n",
      "\u001b[1;31mValueError\u001b[0m: invalid literal for int() with base 10: '1 2 3 4 5 6'"
     ]
    }
   ],
   "source": []
  },
  {
   "cell_type": "code",
   "execution_count": 27,
   "id": "8c5c8acc",
   "metadata": {},
   "outputs": [
    {
     "name": "stdout",
     "output_type": "stream",
     "text": [
      "4\n",
      "2 4 5 6 \n",
      "[2, 4, 5, 6]\n"
     ]
    }
   ],
   "source": [
    "n = int(input())\n",
    "arr = map(int, input().split())\n",
    "print(list(arr))\n",
    "#list_arr = list(arr)\n",
    "#list_arr.sort(reverse=True)\n",
    "#print(list_arr)\n",
    "#for i in list_arr:\n",
    "   # if i != list_arr[0]:\n",
    "      #  print(i)\n",
    "       #     break"
   ]
  },
  {
   "cell_type": "code",
   "execution_count": 34,
   "id": "e67b29d0",
   "metadata": {},
   "outputs": [
    {
     "name": "stdout",
     "output_type": "stream",
     "text": [
      "5\n",
      "2 3 6 6 5\n",
      "[2, 3, 6, 6, 5]\n",
      "{2, 3, 5, 6}\n",
      "[2, 3, 5, 6]\n",
      "[6, 5, 3, 2]\n",
      "5\n"
     ]
    }
   ],
   "source": [
    "n = int(input())\n",
    "arr = map(int, input().split())\n",
    "list_arr= list(arr)\n",
    "print(list_arr)\n",
    "set_arr= set(list_arr)\n",
    "print(set_arr)\n",
    "list_arr1= list(set_arr)\n",
    "print(list_arr1)\n",
    "list_arr1.sort(reverse=True) \n",
    "print(list_arr1)\n",
    "print(list_arr1[1])"
   ]
  },
  {
   "cell_type": "code",
   "execution_count": 72,
   "id": "9a3cd242",
   "metadata": {},
   "outputs": [
    {
     "name": "stdout",
     "output_type": "stream",
     "text": [
      "5\n",
      "a\n",
      "21\n",
      "d\n",
      "23\n",
      "b\n",
      "23\n",
      "c\n",
      "25\n",
      "e\n",
      "27\n",
      "b\n",
      "d\n"
     ]
    }
   ],
   "source": [
    "student=[]\n",
    "for _ in range(int(input())):\n",
    "    name = input()\n",
    "    score = float(input())\n",
    "    student.append([name,score])\n",
    "    student.sort()\n",
    "\n",
    "marks=[]\n",
    "for i in student:\n",
    "    marks.append(i[1])\n",
    "#print(marks)\n",
    "marks_set=set(marks)\n",
    "list_marks= list(marks_set)\n",
    "list_marks.sort()\n",
    "\n",
    "second_lowest= list_marks[1]\n",
    "for i in student:\n",
    "    if(i[1] == second_lowest):\n",
    "        print(i[0])"
   ]
  },
  {
   "cell_type": "code",
   "execution_count": 55,
   "id": "68b48f7a",
   "metadata": {},
   "outputs": [
    {
     "data": {
      "text/plain": [
       "[['sita', 31.0], ['ram', 43.0], ['lax', 35.0]]"
      ]
     },
     "execution_count": 55,
     "metadata": {},
     "output_type": "execute_result"
    }
   ],
   "source": [
    "student"
   ]
  },
  {
   "cell_type": "code",
   "execution_count": 63,
   "id": "53320078",
   "metadata": {},
   "outputs": [],
   "source": [
    "student.sort(key=lambda x :x[1])"
   ]
  },
  {
   "cell_type": "code",
   "execution_count": 64,
   "id": "d30fd618",
   "metadata": {},
   "outputs": [
    {
     "data": {
      "text/plain": [
       "[['sita', 31.0], ['lax', 35.0], ['ram', 43.0]]"
      ]
     },
     "execution_count": 64,
     "metadata": {},
     "output_type": "execute_result"
    }
   ],
   "source": [
    "student"
   ]
  },
  {
   "cell_type": "code",
   "execution_count": 67,
   "id": "4d071f00",
   "metadata": {},
   "outputs": [
    {
     "name": "stdout",
     "output_type": "stream",
     "text": [
      "[31.0, 35.0, 43.0]\n"
     ]
    }
   ],
   "source": [
    "marks=[]\n",
    "for i in student:\n",
    "    marks.append(i[1])\n",
    "print(marks)\n",
    "marks_set=set(marks)\n",
    "list_marks= list(marks_set)\n",
    "list_marks.sort()"
   ]
  },
  {
   "cell_type": "code",
   "execution_count": 68,
   "id": "63d365c2",
   "metadata": {},
   "outputs": [],
   "source": [
    "second_lowest= list_marks[1]"
   ]
  },
  {
   "cell_type": "code",
   "execution_count": 70,
   "id": "13067778",
   "metadata": {},
   "outputs": [
    {
     "name": "stdout",
     "output_type": "stream",
     "text": [
      "lax\n"
     ]
    }
   ],
   "source": [
    "for i in student:\n",
    "    if(i[1] == second_lowest):\n",
    "        print(i[0])"
   ]
  },
  {
   "cell_type": "code",
   "execution_count": 80,
   "id": "f6527e15",
   "metadata": {},
   "outputs": [],
   "source": [
    "def split_and_join(line):\n",
    "    a=line.split(\" \")\n",
    "    b='-'.join(a)\n",
    "    return b"
   ]
  },
  {
   "cell_type": "code",
   "execution_count": 81,
   "id": "471773de",
   "metadata": {},
   "outputs": [
    {
     "data": {
      "text/plain": [
       "'I-am-intelligent'"
      ]
     },
     "execution_count": 81,
     "metadata": {},
     "output_type": "execute_result"
    }
   ],
   "source": [
    "split_and_join(\"I am intelligent\")"
   ]
  },
  {
   "cell_type": "code",
   "execution_count": 96,
   "id": "eba89076",
   "metadata": {},
   "outputs": [
    {
     "name": "stdout",
     "output_type": "stream",
     "text": [
      "xscsgajhsdhd\n",
      "(1, x) (1, s) (1, c) (1, s) (1, g) (1, a) (1, j) (1, h) (1, s) (1, d) (1, h) (1, d) "
     ]
    }
   ],
   "source": [
    "from itertools import groupby\n",
    "a=input()\n",
    "gr=groupby(a)\n",
    "for key, group in gr:\n",
    "    cnt = len(list(group))\n",
    "    print(f'({cnt}, {key})', end = ' ')"
   ]
  },
  {
   "cell_type": "code",
   "execution_count": 94,
   "id": "81ceb2bb",
   "metadata": {},
   "outputs": [],
   "source": [
    "for key, group in gr:\n",
    "    cnt = len(list(group))\n",
    "    print(f'({cnt}, {key})')"
   ]
  },
  {
   "cell_type": "code",
   "execution_count": 103,
   "id": "921fdb45",
   "metadata": {},
   "outputs": [
    {
     "name": "stdout",
     "output_type": "stream",
     "text": [
      "5\n",
      "1\n",
      "22\n",
      "333\n",
      "4444\n"
     ]
    }
   ],
   "source": [
    "for i in range(1,int(input())):\n",
    "    print(i*((10**i-1)//9))"
   ]
  },
  {
   "cell_type": "code",
   "execution_count": 117,
   "id": "a310cf7a",
   "metadata": {},
   "outputs": [
    {
     "name": "stdout",
     "output_type": "stream",
     "text": [
      "6\n",
      "1\n",
      "22\n",
      "333\n",
      "4444\n",
      "55555\n"
     ]
    }
   ],
   "source": [
    "for i in range(1,int(input())):\n",
    "    for j in range (i):\n",
    "        print(i ,end='')\n",
    "    print('')"
   ]
  },
  {
   "cell_type": "code",
   "execution_count": 121,
   "id": "87e39aac",
   "metadata": {},
   "outputs": [
    {
     "name": "stdout",
     "output_type": "stream",
     "text": [
      "5\n",
      "4444\n",
      "333\n",
      "22\n",
      "1\n"
     ]
    }
   ],
   "source": [
    "n=int(input())\n",
    "for i in range(1,n):\n",
    "    for j in range (n-i):\n",
    "        print(n-i ,end='')\n",
    "    print('')"
   ]
  },
  {
   "cell_type": "code",
   "execution_count": 122,
   "id": "e7081888",
   "metadata": {},
   "outputs": [
    {
     "name": "stdout",
     "output_type": "stream",
     "text": [
      "5\n",
      "1111\n",
      "222\n",
      "33\n",
      "4\n"
     ]
    }
   ],
   "source": [
    "n=int(input())\n",
    "for i in range(1,n):\n",
    "    for j in range (n-i):\n",
    "        print(i ,end='')\n",
    "    print('')"
   ]
  },
  {
   "cell_type": "code",
   "execution_count": 125,
   "id": "73813258",
   "metadata": {},
   "outputs": [],
   "source": [
    "def solve(s):\n",
    "    return s.title()"
   ]
  },
  {
   "cell_type": "code",
   "execution_count": 126,
   "id": "6fa253e3",
   "metadata": {},
   "outputs": [
    {
     "data": {
      "text/plain": [
       "'Aayush Aswal'"
      ]
     },
     "execution_count": 126,
     "metadata": {},
     "output_type": "execute_result"
    }
   ],
   "source": [
    "solve(\"aayush aswal\")"
   ]
  },
  {
   "cell_type": "code",
   "execution_count": 130,
   "id": "81d0de9b",
   "metadata": {},
   "outputs": [
    {
     "name": "stdout",
     "output_type": "stream",
     "text": [
      "9\n",
      "1 2 3 4 5 6 7 8 9 10\n"
     ]
    }
   ],
   "source": [
    "n = int(input())\n",
    "s = set(map(int, input().split()))"
   ]
  },
  {
   "cell_type": "code",
   "execution_count": 131,
   "id": "3539f8c3",
   "metadata": {},
   "outputs": [
    {
     "data": {
      "text/plain": [
       "{1, 2, 3, 4, 5, 6, 7, 8, 9, 10}"
      ]
     },
     "execution_count": 131,
     "metadata": {},
     "output_type": "execute_result"
    }
   ],
   "source": [
    "s"
   ]
  },
  {
   "cell_type": "code",
   "execution_count": 147,
   "id": "a5024a55",
   "metadata": {},
   "outputs": [
    {
     "data": {
      "text/plain": [
       "3"
      ]
     },
     "execution_count": 147,
     "metadata": {},
     "output_type": "execute_result"
    }
   ],
   "source": [
    "s.pop()"
   ]
  },
  {
   "cell_type": "code",
   "execution_count": 145,
   "id": "b30a59ae",
   "metadata": {},
   "outputs": [],
   "source": [
    "s.remove(5)"
   ]
  },
  {
   "cell_type": "code",
   "execution_count": 148,
   "id": "2f60f441",
   "metadata": {},
   "outputs": [
    {
     "data": {
      "text/plain": [
       "{4, 10}"
      ]
     },
     "execution_count": 148,
     "metadata": {},
     "output_type": "execute_result"
    }
   ],
   "source": [
    "s"
   ]
  },
  {
   "cell_type": "code",
   "execution_count": 135,
   "id": "c64e2631",
   "metadata": {},
   "outputs": [],
   "source": [
    "s.discard(9)"
   ]
  },
  {
   "cell_type": "code",
   "execution_count": 136,
   "id": "555c8bcb",
   "metadata": {},
   "outputs": [
    {
     "data": {
      "text/plain": [
       "{2, 3, 4, 5, 6, 7, 8, 10}"
      ]
     },
     "execution_count": 136,
     "metadata": {},
     "output_type": "execute_result"
    }
   ],
   "source": [
    "s"
   ]
  },
  {
   "cell_type": "code",
   "execution_count": 149,
   "id": "aec6af9a",
   "metadata": {},
   "outputs": [],
   "source": [
    "s.discard(5)"
   ]
  },
  {
   "cell_type": "code",
   "execution_count": 150,
   "id": "8fd2f4bc",
   "metadata": {},
   "outputs": [
    {
     "data": {
      "text/plain": [
       "{4, 10}"
      ]
     },
     "execution_count": 150,
     "metadata": {},
     "output_type": "execute_result"
    }
   ],
   "source": [
    "s"
   ]
  },
  {
   "cell_type": "code",
   "execution_count": 139,
   "id": "5815a54b",
   "metadata": {},
   "outputs": [],
   "source": [
    "s.remove(7)"
   ]
  },
  {
   "cell_type": "code",
   "execution_count": 142,
   "id": "85ce1467",
   "metadata": {},
   "outputs": [
    {
     "data": {
      "text/plain": [
       "{3, 4, 5, 6, 10}"
      ]
     },
     "execution_count": 142,
     "metadata": {},
     "output_type": "execute_result"
    }
   ],
   "source": [
    "s"
   ]
  },
  {
   "cell_type": "code",
   "execution_count": null,
   "id": "46fab239",
   "metadata": {},
   "outputs": [],
   "source": []
  }
 ],
 "metadata": {
  "kernelspec": {
   "display_name": "Python 3 (ipykernel)",
   "language": "python",
   "name": "python3"
  },
  "language_info": {
   "codemirror_mode": {
    "name": "ipython",
    "version": 3
   },
   "file_extension": ".py",
   "mimetype": "text/x-python",
   "name": "python",
   "nbconvert_exporter": "python",
   "pygments_lexer": "ipython3",
   "version": "3.9.13"
  }
 },
 "nbformat": 4,
 "nbformat_minor": 5
}

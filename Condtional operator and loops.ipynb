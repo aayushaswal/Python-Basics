{
 "cells": [
  {
   "cell_type": "markdown",
   "id": "a2f2bac5",
   "metadata": {},
   "source": [
    "# Python If ... Else"
   ]
  },
  {
   "cell_type": "markdown",
   "id": "960f847f",
   "metadata": {},
   "source": [
    "if keyword is used to check the condition\n",
    "\n",
    "elif keyword is Python's way of saying \"if the previous conditions were not true, then try this condition\"\n",
    "\n",
    "else keyword catches anything which isn't caught by the preceding conditions\n"
   ]
  },
  {
   "cell_type": "code",
   "execution_count": 1,
   "id": "bf03b4b3",
   "metadata": {},
   "outputs": [
    {
     "name": "stdout",
     "output_type": "stream",
     "text": [
      "a is greater than b\n"
     ]
    }
   ],
   "source": [
    "a = 200\n",
    "b = 33\n",
    "if b > a:\n",
    "  print(\"b is greater than a\")\n",
    "elif a == b:\n",
    "  print(\"a and b are equal\")\n",
    "else:\n",
    "  print(\"a is greater than b\")"
   ]
  },
  {
   "cell_type": "code",
   "execution_count": 2,
   "id": "a859784c",
   "metadata": {},
   "outputs": [
    {
     "name": "stdout",
     "output_type": "stream",
     "text": [
      "a is greater than b\n"
     ]
    }
   ],
   "source": [
    "#One line if statement\n",
    "\n",
    "if(a>b): print(\"a is greater than b\")"
   ]
  },
  {
   "cell_type": "code",
   "execution_count": 4,
   "id": "8ebcde66",
   "metadata": {},
   "outputs": [
    {
     "name": "stdout",
     "output_type": "stream",
     "text": [
      "b is greater\n"
     ]
    }
   ],
   "source": [
    "#One line if-else statement\n",
    "a=10\n",
    "\n",
    "print(\"a is greater\") if (a>b) else print(\"b is greater\")"
   ]
  },
  {
   "cell_type": "code",
   "execution_count": 5,
   "id": "dd3d028a",
   "metadata": {},
   "outputs": [
    {
     "name": "stdout",
     "output_type": "stream",
     "text": [
      "a=b\n"
     ]
    }
   ],
   "source": [
    "b=10\n",
    "\n",
    "print(\"a is greater\") if (a>b) else print(\"a=b\") if (a==b) else print(\"b is greater\")"
   ]
  },
  {
   "cell_type": "code",
   "execution_count": 6,
   "id": "b5e56284",
   "metadata": {},
   "outputs": [
    {
     "name": "stdout",
     "output_type": "stream",
     "text": [
      "Both conditions are True\n"
     ]
    }
   ],
   "source": [
    "# and keyword is a logical operator,used to combine conditional statements\n",
    "a = 200\n",
    "b = 33\n",
    "c = 500\n",
    "if a > b and c > a:\n",
    "  print(\"Both conditions are True\")"
   ]
  },
  {
   "cell_type": "code",
   "execution_count": null,
   "id": "2209825d",
   "metadata": {},
   "outputs": [],
   "source": [
    "# or keyword is a logical operator, and is used to combine conditional statements\n",
    "a = 200\n",
    "b = 33\n",
    "c = 500\n",
    "if a > b or a > c:\n",
    "  print(\"At least one of the conditions is True\")\n"
   ]
  },
  {
   "cell_type": "code",
   "execution_count": 10,
   "id": "ec2bc9c9",
   "metadata": {},
   "outputs": [
    {
     "name": "stdout",
     "output_type": "stream",
     "text": [
      "a is NOT greater than b\n"
     ]
    }
   ],
   "source": [
    "#not keyword is a logical operator, and is used to reverse the result of the conditional statement\n",
    "a = 33\n",
    "b = 200\n",
    "if not a > b:\n",
    "  print(\"a is NOT greater than b\")"
   ]
  },
  {
   "cell_type": "markdown",
   "id": "934c235d",
   "metadata": {},
   "source": [
    "# loops"
   ]
  },
  {
   "cell_type": "raw",
   "id": "420f3ba2",
   "metadata": {},
   "source": [
    "Python has two primitive loop commands:\n",
    "\n",
    "1. while loops\n",
    "2. for loops"
   ]
  },
  {
   "cell_type": "markdown",
   "id": "d1e234d7",
   "metadata": {},
   "source": [
    "# 1.  The while Loop"
   ]
  },
  {
   "cell_type": "markdown",
   "id": "e166d230",
   "metadata": {},
   "source": [
    " the while loop we can execute a set of statements as long as a condition is true."
   ]
  },
  {
   "cell_type": "code",
   "execution_count": 1,
   "id": "a01f8d63",
   "metadata": {},
   "outputs": [
    {
     "name": "stdout",
     "output_type": "stream",
     "text": [
      "0\n",
      "1\n",
      "2\n",
      "3\n",
      "4\n",
      "5\n",
      "6\n"
     ]
    }
   ],
   "source": [
    "i= 0\n",
    "while i<=6:\n",
    "    print(i)\n",
    "    i=i+1"
   ]
  },
  {
   "cell_type": "code",
   "execution_count": 2,
   "id": "60bc8c44",
   "metadata": {},
   "outputs": [
    {
     "name": "stdout",
     "output_type": "stream",
     "text": [
      "0\n",
      "1\n",
      "2\n",
      "3\n",
      "4\n"
     ]
    }
   ],
   "source": [
    "#break statement we can stop the loop even if the while condition is true:\n",
    "i= 0\n",
    "while i<=6:\n",
    "    print(i)\n",
    "    if i==4:\n",
    "        break\n",
    "    i=i+1"
   ]
  },
  {
   "cell_type": "code",
   "execution_count": 1,
   "id": "07492bde",
   "metadata": {},
   "outputs": [
    {
     "name": "stdout",
     "output_type": "stream",
     "text": [
      "1\n",
      "2\n",
      "3\n",
      "5\n",
      "6\n",
      "7\n"
     ]
    }
   ],
   "source": [
    "#continue statement we can stop the current iteration, and continue with the next\n",
    "i= 0\n",
    "while i<=6:\n",
    "    i=i+1\n",
    "    if i==4:\n",
    "        continue\n",
    "    print(i)\n",
    "  "
   ]
  },
  {
   "cell_type": "code",
   "execution_count": 2,
   "id": "6944d60d",
   "metadata": {},
   "outputs": [
    {
     "name": "stdout",
     "output_type": "stream",
     "text": [
      "1\n",
      "2\n",
      "3\n",
      "4\n",
      "5\n",
      "i is no longer less than 6\n"
     ]
    }
   ],
   "source": [
    "#else statement we can run a block of code once when the condition no longer is true\n",
    "\n",
    "i = 1\n",
    "while i < 6:\n",
    "  print(i)\n",
    "  i += 1\n",
    "else:\n",
    "  print(\"i is no longer less than 6\")"
   ]
  },
  {
   "cell_type": "markdown",
   "id": "9878e997",
   "metadata": {},
   "source": [
    "# 2. for loop"
   ]
  },
  {
   "cell_type": "code",
   "execution_count": 3,
   "id": "7f6bdc4b",
   "metadata": {},
   "outputs": [
    {
     "name": "stdout",
     "output_type": "stream",
     "text": [
      "apple\n",
      "banana\n",
      "cherry\n"
     ]
    }
   ],
   "source": [
    "# for loop is used for iterating over a sequence (that is either a list, a tuple, a dictionary, a set, or a string)\n",
    "\n",
    "fruits = [\"apple\", \"banana\", \"cherry\"]\n",
    "for x in fruits:\n",
    "  print(x)"
   ]
  },
  {
   "cell_type": "code",
   "execution_count": 4,
   "id": "7fa228e4",
   "metadata": {},
   "outputs": [
    {
     "name": "stdout",
     "output_type": "stream",
     "text": [
      "b\n",
      "a\n",
      "n\n",
      "a\n",
      "n\n",
      "a\n"
     ]
    }
   ],
   "source": [
    "# Looping Through a String\n",
    "\n",
    "for x in \"banana\":\n",
    "  print(x)"
   ]
  },
  {
   "cell_type": "code",
   "execution_count": 6,
   "id": "0a696909",
   "metadata": {},
   "outputs": [
    {
     "name": "stdout",
     "output_type": "stream",
     "text": [
      "apple\n",
      "banana\n"
     ]
    }
   ],
   "source": [
    "# break statement we can stop the loop before it has looped through all the items\n",
    "fruits = [\"apple\", \"banana\", \"cherry\"]\n",
    "for x in fruits:\n",
    "  print(x)\n",
    "  if x == \"banana\":\n",
    "    break"
   ]
  },
  {
   "cell_type": "code",
   "execution_count": 7,
   "id": "1f0f2b33",
   "metadata": {},
   "outputs": [
    {
     "name": "stdout",
     "output_type": "stream",
     "text": [
      "apple\n"
     ]
    }
   ],
   "source": [
    "fruits = [\"apple\", \"banana\", \"cherry\"]\n",
    "for x in fruits:\n",
    "  if x == \"banana\":\n",
    "    break\n",
    "  print(x)"
   ]
  },
  {
   "cell_type": "code",
   "execution_count": 8,
   "id": "46721713",
   "metadata": {},
   "outputs": [
    {
     "name": "stdout",
     "output_type": "stream",
     "text": [
      "apple\n",
      "cherry\n"
     ]
    }
   ],
   "source": [
    "#continue statement we can stop the current iteration of the loop\n",
    "\n",
    "fruits = [\"apple\", \"banana\", \"cherry\"]\n",
    "for x in fruits:\n",
    "  if x == \"banana\":\n",
    "    continue\n",
    "  print(x)"
   ]
  },
  {
   "cell_type": "code",
   "execution_count": 9,
   "id": "9604ef38",
   "metadata": {},
   "outputs": [
    {
     "name": "stdout",
     "output_type": "stream",
     "text": [
      "0\n",
      "1\n",
      "2\n",
      "3\n",
      "4\n",
      "5\n"
     ]
    }
   ],
   "source": [
    "#range() function returns a sequence of numbers, starting from 0 by default, and increments by 1 \n",
    "for x in range(6):\n",
    "  print(x)"
   ]
  },
  {
   "cell_type": "code",
   "execution_count": 10,
   "id": "31084515",
   "metadata": {},
   "outputs": [
    {
     "name": "stdout",
     "output_type": "stream",
     "text": [
      "1\n",
      "6\n",
      "11\n",
      "16\n",
      "21\n",
      "26\n",
      "31\n",
      "36\n",
      "41\n",
      "46\n",
      "51\n",
      "56\n"
     ]
    }
   ],
   "source": [
    "#Increment the sequence with 3 (default is 1):\n",
    "for x in range(1,60,5):\n",
    "  print(x)"
   ]
  },
  {
   "cell_type": "code",
   "execution_count": 11,
   "id": "5b3ab148",
   "metadata": {},
   "outputs": [
    {
     "name": "stdout",
     "output_type": "stream",
     "text": [
      "0\n",
      "1\n",
      "2\n",
      "3\n",
      "4\n",
      "5\n",
      "Finally finished!\n"
     ]
    }
   ],
   "source": [
    "#else keyword in a for loop specifies a block of code to be executed when the loop is finished\n",
    "for x in range(6):\n",
    "  print(x)\n",
    "else:\n",
    "  print(\"Finally finished!\")"
   ]
  },
  {
   "cell_type": "markdown",
   "id": "06bfbadb",
   "metadata": {},
   "source": [
    "# Nested Loops"
   ]
  },
  {
   "cell_type": "markdown",
   "id": "ed0a2187",
   "metadata": {},
   "source": [
    "A nested loop is a loop inside a loop.\n",
    "\n",
    "The \"inner loop\" will be executed one time for each iteration of the \"outer loop\""
   ]
  },
  {
   "cell_type": "code",
   "execution_count": 17,
   "id": "41c67aec",
   "metadata": {},
   "outputs": [
    {
     "name": "stdout",
     "output_type": "stream",
     "text": [
      "red apple\n",
      "red banana\n",
      "red cherry\n",
      "big apple\n",
      "big banana\n",
      "big cherry\n",
      "tasty apple\n",
      "tasty banana\n",
      "tasty cherry\n"
     ]
    }
   ],
   "source": [
    "adj = [\"red\", \"big\", \"tasty\"]\n",
    "fruits = [\"apple\", \"banana\", \"cherry\"]\n",
    "\n",
    "for x in adj:\n",
    "  for y in fruits:\n",
    "    print(x,y)"
   ]
  },
  {
   "cell_type": "code",
   "execution_count": 18,
   "id": "3172be6a",
   "metadata": {},
   "outputs": [],
   "source": [
    "#for loops cannot be empty, but if you for some reason have a for loop with no content,\n",
    "#put in the pass statement to avoid getting an error\n",
    "\n",
    "for x in [0, 1, 2]:\n",
    "  pass"
   ]
  },
  {
   "cell_type": "code",
   "execution_count": null,
   "id": "4d908a1f",
   "metadata": {},
   "outputs": [],
   "source": []
  },
  {
   "cell_type": "code",
   "execution_count": null,
   "id": "d0dcdaa6",
   "metadata": {},
   "outputs": [],
   "source": []
  },
  {
   "cell_type": "code",
   "execution_count": null,
   "id": "84ca05d6",
   "metadata": {},
   "outputs": [],
   "source": []
  },
  {
   "cell_type": "code",
   "execution_count": null,
   "id": "8c77f5bf",
   "metadata": {},
   "outputs": [],
   "source": []
  }
 ],
 "metadata": {
  "kernelspec": {
   "display_name": "Python 3 (ipykernel)",
   "language": "python",
   "name": "python3"
  },
  "language_info": {
   "codemirror_mode": {
    "name": "ipython",
    "version": 3
   },
   "file_extension": ".py",
   "mimetype": "text/x-python",
   "name": "python",
   "nbconvert_exporter": "python",
   "pygments_lexer": "ipython3",
   "version": "3.9.13"
  }
 },
 "nbformat": 4,
 "nbformat_minor": 5
}

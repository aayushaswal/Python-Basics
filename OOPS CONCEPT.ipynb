{
 "cells": [
  {
   "cell_type": "markdown",
   "id": "50795631",
   "metadata": {},
   "source": [
    "# Objects"
   ]
  },
  {
   "cell_type": "markdown",
   "id": "caabb2ce",
   "metadata": {},
   "source": [
    "In Python, everything is an object. we can use type() to check the type of object"
   ]
  },
  {
   "cell_type": "code",
   "execution_count": 1,
   "id": "bd9b3258",
   "metadata": {},
   "outputs": [
    {
     "name": "stdout",
     "output_type": "stream",
     "text": [
      "<class 'int'>\n",
      "<class 'list'>\n",
      "<class 'tuple'>\n",
      "<class 'dict'>\n"
     ]
    }
   ],
   "source": [
    "print(type(1))\n",
    "print(type([]))\n",
    "print(type(()))\n",
    "print(type({}))"
   ]
  },
  {
   "cell_type": "markdown",
   "id": "aeec1119",
   "metadata": {},
   "source": [
    "# CLASS"
   ]
  },
  {
   "cell_type": "markdown",
   "id": "0bea023b",
   "metadata": {},
   "source": [
    "User defined objects are created using the class keyword.The class is a blueprint that defines the nature of a future object. From classes we can construct instances. An instance is a specific object created from a particular class. For example, above we created the object lst which was an instance of a list object."
   ]
  },
  {
   "cell_type": "code",
   "execution_count": 2,
   "id": "c809bb53",
   "metadata": {},
   "outputs": [
    {
     "name": "stdout",
     "output_type": "stream",
     "text": [
      "<class '__main__.Sample'>\n"
     ]
    }
   ],
   "source": [
    "# Create a new object type called Sample\n",
    "class Sample:\n",
    "    pass\n",
    "\n",
    "# Instance of Sample\n",
    "x = Sample()\n",
    "\n",
    "print(type(x))"
   ]
  },
  {
   "cell_type": "markdown",
   "id": "b04b2022",
   "metadata": {},
   "source": [
    "By convention we give classes a name that starts with a capital letter. Note how x is now the reference to our new instance of a Sample class. In other words, we instantiate the Sample class.\n",
    "\n",
    "Inside of the class we currently just have pass. But we can define class attributes and methods.\n",
    "\n",
    "An attribute is a characteristic of an object. A method is an operation we can perform with the object.\n",
    "\n",
    "For example, we can create a class called Dog. An attribute of a dog may be its breed or its name, while a method of a dog may be defined by a .bark() method which returns a sound.\n",
    "\n",
    "Let's get a better understanding of attributes through an example."
   ]
  },
  {
   "cell_type": "markdown",
   "id": "79c9a019",
   "metadata": {},
   "source": [
    "# Attributes"
   ]
  },
  {
   "cell_type": "markdown",
   "id": "7a90b17b",
   "metadata": {},
   "source": [
    "\n",
    "The syntax for creating an attribute is:\n",
    "\n",
    "self.attribute = something\n",
    "\n",
    "There is a special method called:\n",
    "\n",
    "__init__()\n",
    "This method is used to initialize the attributes of an object."
   ]
  },
  {
   "cell_type": "code",
   "execution_count": 3,
   "id": "d919d27d",
   "metadata": {},
   "outputs": [],
   "source": [
    "class Dog:\n",
    "    def __init__(self,breed):\n",
    "        self.breed=breed\n",
    "        \n",
    "\n",
    "Sam=Dog(breed='dobberman')\n",
    "Ram=Dog(breed='Husky')\n"
   ]
  },
  {
   "cell_type": "markdown",
   "id": "71af6ab4",
   "metadata": {},
   "source": [
    "Lets break down what we have above.The special method\n",
    "\n",
    "__init__() \n",
    "is called automatically right after the object has been created:\n",
    "\n",
    "def __init__(self, breed):\n",
    "Each attribute in a class definition begins with a reference to the instance object. It is by convention named self. The breed is the argument. The value is passed during the class instantiation.\n",
    "\n",
    " self.breed = breed\n",
    "Now we have created two instances of the Dog class. With two breed types, we can then access these attributes like this:"
   ]
  },
  {
   "cell_type": "code",
   "execution_count": 5,
   "id": "8f878377",
   "metadata": {},
   "outputs": [
    {
     "name": "stdout",
     "output_type": "stream",
     "text": [
      "dobberman\n",
      "Husky\n"
     ]
    }
   ],
   "source": [
    "print(Sam.breed)\n",
    "print(Ram.breed)"
   ]
  },
  {
   "cell_type": "markdown",
   "id": "f5c3ae68",
   "metadata": {},
   "source": [
    "Note how we don't have any parentheses after breed; this is because it is an attribute and doesn't take any arguments.\n",
    "\n",
    "In Python there are also class object attributes. These Class Object Attributes are the same for any instance of the class. For example, we could create the attribute species for the Dog class. Dogs, regardless of their breed, name, or other attributes, will always be mammals. We apply this logic in the following manner:"
   ]
  },
  {
   "cell_type": "code",
   "execution_count": 6,
   "id": "8a441a0e",
   "metadata": {},
   "outputs": [],
   "source": [
    "class Pet:\n",
    "    species='Mammal'\n",
    "    \n",
    "    def __init__(self,name,pettype,breed,age):\n",
    "        self.name=name\n",
    "        self.pettype= pettype\n",
    "        self.breed =breed\n",
    "        self.age = age\n",
    "        \n",
    "        \n",
    "ram= Pet(name='facebook',pettype='dog',breed='Golden retriever',age='12 months')\n",
    "sam= Pet(name='orkut',pettype='dog',breed='lab',age='10 months')\n",
    "sia=Pet(name='kitty',pettype='cat',breed='American cat',age='15 months')"
   ]
  },
  {
   "cell_type": "code",
   "execution_count": 8,
   "id": "406dd171",
   "metadata": {},
   "outputs": [
    {
     "name": "stdout",
     "output_type": "stream",
     "text": [
      "12 months\n",
      "orkut\n",
      "American cat\n",
      "Mammal\n"
     ]
    }
   ],
   "source": [
    "print(ram.age)\n",
    "print(sam.name)\n",
    "print(sia.breed)\n",
    "print(sia.species)"
   ]
  },
  {
   "cell_type": "markdown",
   "id": "000fae24",
   "metadata": {},
   "source": [
    "# Method"
   ]
  },
  {
   "cell_type": "markdown",
   "id": "a3ea9280",
   "metadata": {},
   "source": [
    "Methods are functions defined inside the body of a class. They are used to perform operations with the attributes of our objects. Methods are a key concept of the OOP paradigm. They are essential to dividing responsibilities in programming, especially in large applications."
   ]
  },
  {
   "cell_type": "markdown",
   "id": "f6a62420",
   "metadata": {},
   "source": [
    "You can basically think of methods as functions acting on an Object that take the Object itself into account through its self argument.\n",
    "\n",
    "Let's go through an example of creating a Circle class:"
   ]
  },
  {
   "cell_type": "code",
   "execution_count": 16,
   "id": "56570557",
   "metadata": {},
   "outputs": [],
   "source": [
    "class Circle():\n",
    "    \n",
    "    pi=3.14\n",
    "    \n",
    "    def __init__(self, radius=1):\n",
    "        self.radius= radius\n",
    "        self.area= self.pi * radius *radius\n",
    "    \n",
    "    def new_radius(self,new_radius):\n",
    "        self.radius= new_radius\n",
    "        self.area =self.pi * self.new_radius *self.new_radius\n",
    "    \n",
    "    def circumfernce(self):\n",
    "        return self.radius *self.pi *2\n",
    "    \n"
   ]
  },
  {
   "cell_type": "code",
   "execution_count": 19,
   "id": "e5a39adb",
   "metadata": {},
   "outputs": [
    {
     "name": "stdout",
     "output_type": "stream",
     "text": [
      "radius is : 1\n",
      "area is : 3.14\n",
      "circumference is : 6.28\n"
     ]
    }
   ],
   "source": [
    "c=Circle()    \n",
    "print(\"radius is :\", c.radius)\n",
    "print(\"area is :\", c.area)\n",
    "print(\"circumference is :\", c.circumfernce())"
   ]
  },
  {
   "cell_type": "code",
   "execution_count": 18,
   "id": "a3e7a151",
   "metadata": {},
   "outputs": [
    {
     "name": "stdout",
     "output_type": "stream",
     "text": [
      "radius is : 3\n",
      "area is : 28.259999999999998\n",
      "circumference is : 18.84\n"
     ]
    }
   ],
   "source": [
    "c=Circle(3)    \n",
    "print(\"radius is :\", c.radius)\n",
    "print(\"area is :\", c.area)\n",
    "print(\"circumference is :\", c.circumfernce())"
   ]
  },
  {
   "cell_type": "markdown",
   "id": "6373a0e5",
   "metadata": {},
   "source": [
    "In the _init_ method above, in order to calculate the area attribute, we had to call Circle.pi. This is because the object does not yet have its own .pi attribute, so we call the Class Object Attribute pi instead.\n",
    "In the setRadius method, however, we'll be working with an existing Circle object that does have its own pi attribute. Here we can use either Circle.pi or self.pi."
   ]
  },
  {
   "cell_type": "markdown",
   "id": "ef60263f",
   "metadata": {},
   "source": [
    "# Inheritance"
   ]
  },
  {
   "cell_type": "markdown",
   "id": "78a44022",
   "metadata": {},
   "source": [
    "Inheritance is a way to form new classes using classes that have already been defined. The newly formed classes are called derived classes, the classes that we derive from are called base classes. Important benefits of inheritance are code reuse and reduction of complexity of a program. The derived classes (descendants) override or extend the functionality of base classes (ancestors).\n",
    "\n",
    "Let's see an example by incorporating our previous work on the Dog class:"
   ]
  },
  {
   "cell_type": "code",
   "execution_count": 39,
   "id": "024929be",
   "metadata": {},
   "outputs": [],
   "source": [
    "class Animal:\n",
    "    def __init__(self):\n",
    "        print(\"Animal created\")\n",
    "\n",
    "    def whoAmI(self):\n",
    "        print(\"Animal\")\n",
    "\n",
    "    def eat(self):\n",
    "        print(\"Eating\")\n",
    "\n"
   ]
  },
  {
   "cell_type": "code",
   "execution_count": 34,
   "id": "da933c58",
   "metadata": {},
   "outputs": [
    {
     "name": "stdout",
     "output_type": "stream",
     "text": [
      "Animal created\n"
     ]
    }
   ],
   "source": [
    "a= Animal()"
   ]
  },
  {
   "cell_type": "code",
   "execution_count": 35,
   "id": "e7975b72",
   "metadata": {},
   "outputs": [
    {
     "name": "stdout",
     "output_type": "stream",
     "text": [
      "Animal\n"
     ]
    }
   ],
   "source": [
    "a.whoAmI()"
   ]
  },
  {
   "cell_type": "code",
   "execution_count": 42,
   "id": "923e8adf",
   "metadata": {},
   "outputs": [],
   "source": [
    "class Dog(Animal):\n",
    "    def __init__(self):\n",
    "        Animal.__init__(self)\n",
    "        print(\"Dog created\")\n",
    "        \n",
    "    def whoAmI(self):\n",
    "        print(\"Dog\")\n",
    "\n",
    "    def bark(self):\n",
    "        print(\"bhau bhau\")\n"
   ]
  },
  {
   "cell_type": "code",
   "execution_count": 43,
   "id": "c7fa4b4b",
   "metadata": {},
   "outputs": [
    {
     "name": "stdout",
     "output_type": "stream",
     "text": [
      "Animal created\n",
      "Dog created\n"
     ]
    }
   ],
   "source": [
    "b=Dog()"
   ]
  },
  {
   "cell_type": "code",
   "execution_count": 44,
   "id": "6d6b9351",
   "metadata": {},
   "outputs": [
    {
     "name": "stdout",
     "output_type": "stream",
     "text": [
      "Eating\n"
     ]
    }
   ],
   "source": [
    "b.eat()"
   ]
  },
  {
   "cell_type": "code",
   "execution_count": 45,
   "id": "044ef369",
   "metadata": {},
   "outputs": [
    {
     "name": "stdout",
     "output_type": "stream",
     "text": [
      "Dog\n"
     ]
    }
   ],
   "source": [
    "b.whoAmI()"
   ]
  },
  {
   "cell_type": "code",
   "execution_count": 46,
   "id": "80aa670b",
   "metadata": {},
   "outputs": [
    {
     "name": "stdout",
     "output_type": "stream",
     "text": [
      "bhau bhau\n"
     ]
    }
   ],
   "source": [
    "b.bark()"
   ]
  },
  {
   "cell_type": "markdown",
   "id": "88680601",
   "metadata": {},
   "source": [
    "In this example, we have two classes: Animal and Dog. The Animal is the base class, the Dog is the derived class.\n",
    "\n",
    "The derived class inherits the functionality of the base class.\n",
    "\n",
    "It is shown by the eat() method.\n",
    "The derived class modifies existing behavior of the base class.\n",
    "\n",
    "shown by the whoAmI() method.\n",
    "Finally, the derived class extends the functionality of the base class, by defining a new bark() method."
   ]
  },
  {
   "cell_type": "markdown",
   "id": "54dca061",
   "metadata": {},
   "source": [
    "# Polymorphism"
   ]
  },
  {
   "cell_type": "markdown",
   "id": "c8f2a9c6",
   "metadata": {},
   "source": [
    "We've learned that while functions can take in different arguments, methods belong to the objects they act on. In Python, polymorphism refers to the way in which different object classes can share the same method name, and those methods can be called from the same place even though a variety of different objects might be passed in. The best way to explain this is by example:"
   ]
  },
  {
   "cell_type": "code",
   "execution_count": 48,
   "id": "010cd007",
   "metadata": {},
   "outputs": [],
   "source": [
    "class Dog:\n",
    "    def __init__(self, name):\n",
    "        self.name = name\n",
    "\n",
    "    def speak(self):\n",
    "        return self.name+' says Woof!'\n",
    "    \n",
    "class Cat:\n",
    "    def __init__(self, name):\n",
    "        self.name = name\n",
    "\n",
    "    def speak(self):\n",
    "        return self.name+' says Meow!' \n",
    "    \n",
    "niko = Dog('Niko')\n",
    "felix = Cat('Felix')"
   ]
  },
  {
   "cell_type": "code",
   "execution_count": 50,
   "id": "bc6d1724",
   "metadata": {},
   "outputs": [
    {
     "name": "stdout",
     "output_type": "stream",
     "text": [
      "Niko says Woof!\n",
      "Felix says Meow!\n"
     ]
    }
   ],
   "source": [
    "# using print function\n",
    "print(niko.speak())\n",
    "print(felix.speak())"
   ]
  },
  {
   "cell_type": "code",
   "execution_count": 51,
   "id": "9b0a625f",
   "metadata": {},
   "outputs": [
    {
     "name": "stdout",
     "output_type": "stream",
     "text": [
      "Niko says Woof!\n",
      "Felix says Meow!\n"
     ]
    }
   ],
   "source": [
    "# using loops\n",
    "for i in [niko,felix]:\n",
    "    print(i.speak())"
   ]
  },
  {
   "cell_type": "code",
   "execution_count": 52,
   "id": "88e09728",
   "metadata": {},
   "outputs": [
    {
     "name": "stdout",
     "output_type": "stream",
     "text": [
      "Niko says Woof!\n",
      "Felix says Meow!\n"
     ]
    }
   ],
   "source": [
    "#using function\n",
    "\n",
    "def pet_speak(pet):\n",
    "    print(pet.speak())\n",
    "\n",
    "pet_speak(niko)\n",
    "pet_speak(felix)"
   ]
  },
  {
   "cell_type": "markdown",
   "id": "7dfbc6b0",
   "metadata": {},
   "source": [
    "In both cases we were able to pass in different object types, and we obtained object-specific results from the same mechanism.\n"
   ]
  },
  {
   "cell_type": "markdown",
   "id": "f76ca5d6",
   "metadata": {},
   "source": [
    "# Special Methods"
   ]
  },
  {
   "cell_type": "markdown",
   "id": "dcda6106",
   "metadata": {},
   "source": [
    "Finally let's go over special methods. Classes in Python can implement certain operations with special method names. These methods are not actually called directly but by Python specific language syntax. For example let's create a Book class:"
   ]
  },
  {
   "cell_type": "code",
   "execution_count": 53,
   "id": "de26cd22",
   "metadata": {},
   "outputs": [],
   "source": [
    "class Book:\n",
    "    def __init__(self, title, author, pages):\n",
    "        print(\"A book is created\")\n",
    "        self.title = title\n",
    "        self.author = author\n",
    "        self.pages = pages\n",
    "\n",
    "    def __str__(self):\n",
    "        return \"Title: %s, author: %s, pages: %s\" %(self.title, self.author, self.pages)\n",
    "\n",
    "    def __len__(self):\n",
    "        return self.pages\n",
    "\n",
    "    def __del__(self):\n",
    "        print(\"A book is destroyed\")"
   ]
  },
  {
   "cell_type": "code",
   "execution_count": 54,
   "id": "12ade49c",
   "metadata": {},
   "outputs": [
    {
     "name": "stdout",
     "output_type": "stream",
     "text": [
      "A book is created\n",
      "Title: Python Rocks!, author: Jose Portilla, pages: 159\n",
      "159\n",
      "A book is destroyed\n"
     ]
    }
   ],
   "source": [
    "book = Book(\"Python Rocks!\", \"Jose Portilla\", 159)\n",
    "\n",
    "#Special Methods\n",
    "print(book)\n",
    "print(len(book))\n",
    "del book"
   ]
  },
  {
   "cell_type": "code",
   "execution_count": null,
   "id": "85545a39",
   "metadata": {},
   "outputs": [],
   "source": []
  }
 ],
 "metadata": {
  "kernelspec": {
   "display_name": "Python 3 (ipykernel)",
   "language": "python",
   "name": "python3"
  },
  "language_info": {
   "codemirror_mode": {
    "name": "ipython",
    "version": 3
   },
   "file_extension": ".py",
   "mimetype": "text/x-python",
   "name": "python",
   "nbconvert_exporter": "python",
   "pygments_lexer": "ipython3",
   "version": "3.9.13"
  }
 },
 "nbformat": 4,
 "nbformat_minor": 5
}
